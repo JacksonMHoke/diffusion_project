{
 "cells": [
  {
   "cell_type": "code",
   "execution_count": null,
   "metadata": {},
   "outputs": [],
   "source": [
    "from torch import normal\n",
    "from torchvision import datasets\n",
    "import matplotlib.pyplot as plt\n",
    "from IPython.display import display\n",
    "mean=0\n",
    "std=1\n",
    "\n",
    "samples=normal(mean, std, size=(1, 1000))\n",
    "\n",
    "plt.hist(samples)\n",
    "plt.show()\n",
    "\n",
    "celebs=datasets.CelebA(root='./celeb/', download=True)\n",
    "\n",
    "print(len(celebs))\n",
    "\n",
    "print(celebs[0])\n",
    "print(type(celebs[0]))\n",
    "display(celebs[0])"
   ]
  }
 ],
 "metadata": {
  "language_info": {
   "name": "python"
  }
 },
 "nbformat": 4,
 "nbformat_minor": 2
}
